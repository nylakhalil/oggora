{
 "cells": [
  {
   "cell_type": "code",
   "execution_count": null,
   "id": "0e2c92a1-b308-4c39-ac3a-2edc86b3a71c",
   "metadata": {},
   "outputs": [],
   "source": [
    "# Reference: https://pypi.org/project/diffusers/"
   ]
  },
  {
   "cell_type": "markdown",
   "id": "1196183e-261c-4e11-a119-ae5da7faa0e5",
   "metadata": {
    "tags": []
   },
   "source": [
    "#### Setup"
   ]
  },
  {
   "cell_type": "code",
   "execution_count": null,
   "id": "78ce50e0-b236-41d0-b9eb-e34c16593f30",
   "metadata": {
    "tags": []
   },
   "outputs": [],
   "source": [
    "!pip install diffusers[torch] transformers accelerate"
   ]
  },
  {
   "cell_type": "code",
   "execution_count": null,
   "id": "c47aa0e5-f689-4f48-b82e-438093071f46",
   "metadata": {
    "tags": []
   },
   "outputs": [],
   "source": [
    "!apt-get install git-lfs"
   ]
  },
  {
   "cell_type": "code",
   "execution_count": null,
   "id": "54316ea2-f20f-41ad-9cf2-4dfbad40fa4f",
   "metadata": {
    "tags": []
   },
   "outputs": [],
   "source": [
    "%mkdir -p /pt/diffusers/stable-diffusion-v1-5\n",
    "%cd /pt/diffusers/stable-diffusion-v1-5\n",
    "\n",
    "!git lfs install\n",
    "\n",
    "%cd /pt/diffusers/\n",
    "#!git lfs"
   ]
  },
  {
   "cell_type": "code",
   "execution_count": null,
   "id": "43499ad6-9d98-4236-b0af-6781225aea9d",
   "metadata": {
    "tags": []
   },
   "outputs": [],
   "source": [
    "!git clone https://huggingface.co/runwayml/stable-diffusion-v1-5"
   ]
  },
  {
   "cell_type": "code",
   "execution_count": null,
   "id": "76ed4761-cbdb-4e6d-9333-a51f7f0d8347",
   "metadata": {
    "tags": []
   },
   "outputs": [],
   "source": [
    "import torch\n",
    "from diffusers import StableDiffusionPipeline, StableDiffusionImg2ImgPipeline\n",
    "\n",
    "device = \"cuda\"\n",
    "model_id = \"runwayml/stable-diffusion-v1-5\"\n",
    "\n",
    "# Safety Checker turned off to free GPU memory - https://github.com/CompVis/stable-diffusion/issues/86\n",
    "# Memory management options - using 16-bit floats\n",
    "safety_checker = None\n",
    "torch_dtype = torch.float16\n",
    "variant = \"fp16\""
   ]
  },
  {
   "cell_type": "code",
   "execution_count": null,
   "id": "6f606416-a51e-48b7-a939-282b2ca225a9",
   "metadata": {
    "tags": []
   },
   "outputs": [],
   "source": [
    "stable_diffusion_txt2img = StableDiffusionPipeline.from_pretrained(model_id, variant=variant, torch_dtype=torch_dtype, safety_checker=safety_checker)\n",
    "\n",
    "components = stable_diffusion_txt2img.components\n",
    "\n",
    "# weights are not reloaded into RAM - https://huggingface.co/docs/diffusers/using-diffusers/loading#loading-customized-pipelines\n",
    "stable_diffusion_img2img = StableDiffusionImg2ImgPipeline(**components)"
   ]
  },
  {
   "cell_type": "markdown",
   "id": "feaa8617-7b95-4b96-a5c4-b80f90a7dde4",
   "metadata": {
    "tags": []
   },
   "source": [
    "#### Text-to-Image generation with Stable Diffusion"
   ]
  },
  {
   "cell_type": "code",
   "execution_count": null,
   "id": "1f0cbf21-6cfc-4c88-b31f-58a2ee107d71",
   "metadata": {
    "tags": []
   },
   "outputs": [],
   "source": [
    "stable_diffusion_txt2img = stable_diffusion_txt2img.to(device)\n",
    "\n",
    "prompt = \"a photo of an astronaut riding a horse on mars\"\n",
    "image = stable_diffusion_txt2img(prompt).images[0]\n",
    "\n",
    "from IPython import display\n",
    "display.display(image)"
   ]
  },
  {
   "cell_type": "code",
   "execution_count": null,
   "id": "709e550b-eff1-4d66-a1fc-ea1314eb6ba2",
   "metadata": {
    "tags": []
   },
   "outputs": [],
   "source": [
    "# Optionally save output\n",
    "image.save(\"astronaut_rides_horse.png\")"
   ]
  },
  {
   "cell_type": "markdown",
   "id": "7f95cf0b-522b-4a6b-91f2-c4dbf403140e",
   "metadata": {},
   "source": [
    " #### Image-to-Image text-guided generation with Stable Diffusion"
   ]
  },
  {
   "cell_type": "code",
   "execution_count": null,
   "id": "d43807c7-ce61-4442-a512-acd8d87aa60d",
   "metadata": {
    "tags": []
   },
   "outputs": [],
   "source": [
    "import os.path\n",
    "url, filename = (\"https://raw.githubusercontent.com/CompVis/stable-diffusion/main/assets/stable-samples/img2img/sketch-mountains-input.jpg\", \"./input/sketch-mountains-input.jpg\")\n",
    "\n",
    "if os.path.isfile(filename):\n",
    "    print(\"Image file exists\")\n",
    "else:\n",
    "    import urllib.request\n",
    "    urllib.request.urlretrieve(url, filename)\n",
    "    print(\"Image file downloaded\")\n",
    "    "
   ]
  },
  {
   "cell_type": "code",
   "execution_count": null,
   "id": "58da7d7e-4093-4c2a-a997-23ec428a7754",
   "metadata": {
    "tags": []
   },
   "outputs": [],
   "source": [
    "from PIL import Image\n",
    "\n",
    "# Memory management options = image size set to 512, 512\n",
    "image_size = (512, 512)\n",
    "filename = \"./input/sketch-mountains-input.jpg\"\n",
    "\n",
    "init_image = Image.open(filename).convert(\"RGB\")\n",
    "init_image = init_image.resize(image_size)\n",
    "#display.display(init_image)\n",
    "\n",
    "prompt =  \"A fantasy landscape, trending on artstation\"\n",
    "\n",
    "stable_diffusion_img2img = stable_diffusion_img2img.to(device)"
   ]
  },
  {
   "cell_type": "code",
   "execution_count": null,
   "id": "6454fa15-ae28-4aa4-9bf1-e088f99b6eb1",
   "metadata": {
    "tags": []
   },
   "outputs": [],
   "source": [
    "generator = torch.Generator(device=device).manual_seed(1024)\n",
    "images = stable_diffusion_img2img(prompt=prompt, image=init_image, strength=0.75, guidance_scale=7.5, generator=generator, num_inference_steps=100).images\n",
    "\n",
    "from IPython import display\n",
    "display.display(images[0])"
   ]
  },
  {
   "cell_type": "code",
   "execution_count": null,
   "id": "20e35a22-eb44-4405-a803-69be28a87723",
   "metadata": {
    "tags": []
   },
   "outputs": [],
   "source": [
    "stable_diffusion_img2img.save_pretrained(\"./stable-diffusion-v1-5\", variant=variant)"
   ]
  }
 ],
 "metadata": {
  "kernelspec": {
   "display_name": "Python 3 (ipykernel)",
   "language": "python",
   "name": "python3"
  },
  "language_info": {
   "codemirror_mode": {
    "name": "ipython",
    "version": 3
   },
   "file_extension": ".py",
   "mimetype": "text/x-python",
   "name": "python",
   "nbconvert_exporter": "python",
   "pygments_lexer": "ipython3",
   "version": "3.8.10"
  }
 },
 "nbformat": 4,
 "nbformat_minor": 5
}
